{
 "cells": [
  {
   "cell_type": "markdown",
   "metadata": {},
   "source": [
    "# Introduction to dictionaries\n",
    "\n",
    "### Creating and  calling keys"
   ]
  },
  {
   "cell_type": "code",
   "execution_count": 2,
   "metadata": {},
   "outputs": [
    {
     "name": "stdout",
     "output_type": "stream",
     "text": [
      "Malema\n",
      "Ramonyai\n",
      "25\n"
     ]
    }
   ],
   "source": [
    "# Creating a new dictionary:\n",
    "\n",
    "my_info = {'name':'Malema',\n",
    "    'Surname': 'Ramonyai',\n",
    "    'Age': 25}\n",
    "\n",
    "# Calling a key from a dictionary,\n",
    "# The names prior the semi-columns are called keys\n",
    "# Values after the semi-columns are objects\n",
    "\n",
    "\n",
    "# Example of calling keys\n",
    "\n",
    "# Getting my name\n",
    "print(my_info['name'])\n",
    "\n",
    "\n",
    "# Getting my Surname\n",
    "\n",
    "print(my_info['Surname'])\n",
    "\n",
    "# Getting my age\n",
    "\n",
    "print(my_info['Age'])"
   ]
  },
  {
   "cell_type": "markdown",
   "metadata": {},
   "source": [
    "### How to get the length of a dictionary"
   ]
  },
  {
   "cell_type": "code",
   "execution_count": 4,
   "metadata": {},
   "outputs": [
    {
     "data": {
      "text/plain": [
       "3"
      ]
     },
     "execution_count": 4,
     "metadata": {},
     "output_type": "execute_result"
    }
   ],
   "source": [
    "# The len function returns the number of keys there is a dictionary\n",
    "\n",
    "len(my_info)"
   ]
  },
  {
   "cell_type": "markdown",
   "metadata": {},
   "source": [
    "### How to update a dictionary"
   ]
  },
  {
   "cell_type": "code",
   "execution_count": 11,
   "metadata": {},
   "outputs": [
    {
     "name": "stdout",
     "output_type": "stream",
     "text": [
      "{'name': 'Maki', 'Surname': 'Ramonyai', 'Age': 25}\n",
      "{'name': 'Maki', 'Surname': 'Ramonyai', 'Age': 25, 'Country': 'South Africa'}\n"
     ]
    }
   ],
   "source": [
    "# The aim is to now change the info and put someone else's\n",
    "\n",
    "\n",
    "# Changing the name to Maki\n",
    "\n",
    "my_info['name'] = 'Maki'\n",
    "\n",
    "print(my_info)\n",
    "\n",
    "# Adding a new key and object to the dictionary\n",
    "\n",
    "my_info['Country'] = 'South Africa'\n",
    "\n",
    "print(my_info)"
   ]
  },
  {
   "cell_type": "markdown",
   "metadata": {},
   "source": [
    "### How to remove data from a dictionary"
   ]
  },
  {
   "cell_type": "code",
   "execution_count": 14,
   "metadata": {},
   "outputs": [
    {
     "name": "stdout",
     "output_type": "stream",
     "text": [
      "{}\n"
     ]
    }
   ],
   "source": [
    "# Remove and key and its corresponding object\n",
    "\n",
    "my_info['Country'] = 'South Africa'\n",
    "\n",
    "# deleting an item\n",
    "del my_info['Country']\n",
    "\n",
    "# deleting everything in the dic\n",
    "\n",
    "my_info.clear()\n",
    "\n",
    "print(my_info)"
   ]
  },
  {
   "cell_type": "markdown",
   "metadata": {},
   "source": [
    "### How to get items from a dictionary"
   ]
  },
  {
   "cell_type": "code",
   "execution_count": 25,
   "metadata": {},
   "outputs": [
    {
     "data": {
      "text/plain": [
       "True"
      ]
     },
     "execution_count": 25,
     "metadata": {},
     "output_type": "execute_result"
    }
   ],
   "source": [
    "# Creating a new dictionary\n",
    "my_info = {'name':'Malema',\n",
    "    'Surname': 'Ramonyai',\n",
    "    'Age': 25}\n",
    "\n",
    "# Getting items from the dictionary\n",
    "\n",
    "items = my_info.items()\n",
    "\n",
    "# Getting keys from a dictionary\n",
    "\n",
    "keys = my_info.keys()\n",
    "\n",
    "# Finding out if a key is in a dictionary\n",
    "# returns TRue if key in dictionary otherwise False\n",
    "\n",
    "key_check = 'name' in my_info\n",
    "\n",
    "# Getting the values in a dictionary\n",
    "\n",
    "values = list(my_info.values()) # List converts the dict into list\n",
    "\n",
    "\n",
    "# Checking if value in dictionary\n",
    "\n",
    "val = 'Malema'\n",
    "\n",
    "val_lst = True in [vl==val for vl in my_info.values()]\n",
    "    \n",
    "val_lst"
   ]
  },
  {
   "cell_type": "markdown",
   "metadata": {},
   "source": [
    "### Nested Dictionaries"
   ]
  },
  {
   "cell_type": "code",
   "execution_count": 33,
   "metadata": {},
   "outputs": [
    {
     "data": {
      "text/plain": [
       "['name', 'age']"
      ]
     },
     "execution_count": 33,
     "metadata": {},
     "output_type": "execute_result"
    }
   ],
   "source": [
    "# Creating a nested dictioanry\n",
    "Info = {'name':{'first':'Malema','last':'Ramonyai'},'age':25}\n",
    "\n",
    "# Indexing the first name from the dictionary\n",
    "first_name = Info['name']['first']\n",
    "\n",
    "# Assing a new name to the first name\n",
    "\n",
    "Info['name']['first'] = 'Hlogi'\n",
    "\n",
    "# Adding a new key to the dictionary\n",
    "\n",
    "Info['name']['middle'] = 'Hendrick'"
   ]
  },
  {
   "cell_type": "code",
   "execution_count": null,
   "metadata": {},
   "outputs": [],
   "source": []
  }
 ],
 "metadata": {
  "kernelspec": {
   "display_name": "Python 3",
   "language": "python",
   "name": "python3"
  },
  "language_info": {
   "codemirror_mode": {
    "name": "ipython",
    "version": 3
   },
   "file_extension": ".py",
   "mimetype": "text/x-python",
   "name": "python",
   "nbconvert_exporter": "python",
   "pygments_lexer": "ipython3",
   "version": "3.8.5"
  }
 },
 "nbformat": 4,
 "nbformat_minor": 4
}
